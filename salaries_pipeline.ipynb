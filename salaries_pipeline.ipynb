{
 "cells": [
  {
   "attachments": {},
   "cell_type": "markdown",
   "metadata": {},
   "source": [
    "### Import Libraries"
   ]
  },
  {
   "cell_type": "code",
   "execution_count": 941,
   "metadata": {},
   "outputs": [],
   "source": [
    "import pandas as pd\n",
    "import numpy as np\n",
    "import matplotlib.pyplot as plt\n",
    "from sklearn.model_selection import train_test_split\n",
    "from sklearn.impute import SimpleImputer\n",
    "from sklearn.preprocessing import OneHotEncoder, StandardScaler, TargetEncoder\n",
    "from sklearn.linear_model import Lasso\n",
    "from sklearn.pipeline import Pipeline\n",
    "from sklearn.compose import ColumnTransformer\n",
    "import joblib"
   ]
  },
  {
   "attachments": {},
   "cell_type": "markdown",
   "metadata": {},
   "source": [
    "### Import Dataset"
   ]
  },
  {
   "cell_type": "code",
   "execution_count": 942,
   "metadata": {},
   "outputs": [],
   "source": [
    "df = pd.read_csv(\"Salary_Data.csv\")"
   ]
  },
  {
   "cell_type": "code",
   "execution_count": 943,
   "metadata": {},
   "outputs": [
    {
     "name": "stdout",
     "output_type": "stream",
     "text": [
      "    Age  Gender Education Level          Job Title  Years of Experience  \\\n",
      "0  32.0    Male      Bachelor's  Software Engineer                  5.0   \n",
      "1  28.0  Female        Master's       Data Analyst                  3.0   \n",
      "2  45.0    Male             PhD     Senior Manager                 15.0   \n",
      "3  36.0  Female      Bachelor's    Sales Associate                  7.0   \n",
      "4  52.0    Male        Master's           Director                 20.0   \n",
      "\n",
      "     Salary  \n",
      "0   90000.0  \n",
      "1   65000.0  \n",
      "2  150000.0  \n",
      "3   60000.0  \n",
      "4  200000.0  \n"
     ]
    }
   ],
   "source": [
    "print(df.head())"
   ]
  },
  {
   "attachments": {},
   "cell_type": "markdown",
   "metadata": {},
   "source": [
    "### Check for null values"
   ]
  },
  {
   "cell_type": "code",
   "execution_count": 944,
   "metadata": {},
   "outputs": [
    {
     "name": "stdout",
     "output_type": "stream",
     "text": [
      "True\n",
      "Age                    2\n",
      "Gender                 2\n",
      "Education Level        3\n",
      "Job Title              2\n",
      "Years of Experience    3\n",
      "Salary                 5\n",
      "dtype: int64\n"
     ]
    }
   ],
   "source": [
    "print(df.isnull().values.any())\n",
    "print(df.isnull().sum())"
   ]
  },
  {
   "attachments": {},
   "cell_type": "markdown",
   "metadata": {},
   "source": [
    "### Imputing"
   ]
  },
  {
   "cell_type": "code",
   "execution_count": 945,
   "metadata": {},
   "outputs": [],
   "source": [
    "num_cols = [\"Age\",\"Years of Experience\",\"Salary\"]\n",
    "cat_cols = [\"Gender\", \"Education Level\", \"Job Title\"]\n",
    "\n",
    "imputer = SimpleImputer(strategy=\"mean\")\n",
    "df[num_cols] = imputer.fit_transform(df[num_cols])\n",
    "imputer = SimpleImputer(strategy=\"most_frequent\")\n",
    "df[cat_cols] = imputer.fit_transform(df[cat_cols])"
   ]
  },
  {
   "cell_type": "code",
   "execution_count": 946,
   "metadata": {},
   "outputs": [
    {
     "name": "stdout",
     "output_type": "stream",
     "text": [
      "False\n",
      "Age                    0\n",
      "Gender                 0\n",
      "Education Level        0\n",
      "Job Title              0\n",
      "Years of Experience    0\n",
      "Salary                 0\n",
      "dtype: int64\n"
     ]
    }
   ],
   "source": [
    "print(df.isnull().values.any())\n",
    "print(df.isnull().sum())"
   ]
  },
  {
   "attachments": {},
   "cell_type": "markdown",
   "metadata": {},
   "source": [
    "### Remove \"Degree\" from Education Level"
   ]
  },
  {
   "cell_type": "code",
   "execution_count": 947,
   "metadata": {},
   "outputs": [],
   "source": [
    "df[\"Education Level\"] = df[\"Education Level\"].str.replace('degree','', case=False).str.strip()\n",
    "df[\"Education Level\"] = df[\"Education Level\"].str.replace('phD','PhD', case=True).str.strip()"
   ]
  },
  {
   "attachments": {},
   "cell_type": "markdown",
   "metadata": {},
   "source": [
    "### Split Features from the Independent Variable"
   ]
  },
  {
   "cell_type": "code",
   "execution_count": 948,
   "metadata": {},
   "outputs": [],
   "source": [
    "X = df.iloc[:, :-1]\n",
    "y = df.iloc[:,-1]"
   ]
  },
  {
   "attachments": {},
   "cell_type": "markdown",
   "metadata": {},
   "source": [
    "### Create Pipeline"
   ]
  },
  {
   "cell_type": "code",
   "execution_count": 949,
   "metadata": {},
   "outputs": [
    {
     "data": {
      "text/plain": [
       "['salary_preprocessor.joblib']"
      ]
     },
     "execution_count": 949,
     "metadata": {},
     "output_type": "execute_result"
    }
   ],
   "source": [
    "num_transformer = StandardScaler()\n",
    "cat_transformer = OneHotEncoder(handle_unknown=\"ignore\", drop=\"first\")\n",
    "job_transformer = TargetEncoder()\n",
    "\n",
    "num_features = [\"Age\", \"Years of Experience\"]\n",
    "cat_features = [\"Gender\", \"Education Level\"]\n",
    "job_features = [\"Job Title\"]\n",
    "\n",
    "preprocessor = ColumnTransformer(\n",
    "    transformers=[\n",
    "        (\"numeric\", num_transformer, num_features),\n",
    "        (\"categorical\", cat_transformer, cat_features),\n",
    "        (\"job\", job_transformer, job_features)\n",
    "    ]\n",
    ")\n",
    "\n",
    "joblib.dump(preprocessor, \"salary_preprocessor.joblib\")"
   ]
  },
  {
   "cell_type": "code",
   "execution_count": 950,
   "metadata": {},
   "outputs": [
    {
     "data": {
      "text/plain": [
       "['salary_pipeline.joblib']"
      ]
     },
     "execution_count": 950,
     "metadata": {},
     "output_type": "execute_result"
    }
   ],
   "source": [
    "pipeline = Pipeline(steps=[(\"preprocessor\", preprocessor), (\"model\", Lasso(alpha=0.5))])\n",
    "joblib.dump(pipeline, \"salary_pipeline.joblib\")"
   ]
  },
  {
   "attachments": {},
   "cell_type": "markdown",
   "metadata": {},
   "source": [
    "### Splitting the Training Set and Test Set"
   ]
  },
  {
   "cell_type": "code",
   "execution_count": 951,
   "metadata": {},
   "outputs": [],
   "source": [
    "X_train, X_test, y_train, y_test = train_test_split(X, y, test_size=0.2, random_state=20)"
   ]
  },
  {
   "cell_type": "code",
   "execution_count": 952,
   "metadata": {},
   "outputs": [
    {
     "name": "stdout",
     "output_type": "stream",
     "text": [
      "       Age  Gender Education Level                  Job Title  \\\n",
      "586   25.0  Female      Bachelor's               Data Analyst   \n",
      "6180  30.0  Female      Bachelor's      Marketing Coordinator   \n",
      "4146  28.0  Female      Bachelor's      Marketing Coordinator   \n",
      "1715  44.0  Female             PhD  Software Engineer Manager   \n",
      "2574  54.0    Male        Master's   Senior Software Engineer   \n",
      "...    ...     ...             ...                        ...   \n",
      "3915  39.0  Female        Master's          Marketing Manager   \n",
      "1428  27.0  Female        Master's        Full Stack Engineer   \n",
      "6537  25.0  Female     High School            Sales Executive   \n",
      "4367  28.0  Female      Bachelor's  Junior Software Developer   \n",
      "2522  31.0  Female        Master's        Full Stack Engineer   \n",
      "\n",
      "      Years of Experience  \n",
      "586                   2.0  \n",
      "6180                  5.0  \n",
      "4146                  2.0  \n",
      "1715                 11.0  \n",
      "2574                 31.0  \n",
      "...                   ...  \n",
      "3915                 11.0  \n",
      "1428                  3.0  \n",
      "6537                  1.0  \n",
      "4367                  2.0  \n",
      "2522                  6.0  \n",
      "\n",
      "[5363 rows x 5 columns]\n",
      "       Age  Gender Education Level                  Job Title  \\\n",
      "3405  38.0    Male      Bachelor's       Senior HR Generalist   \n",
      "2245  49.0    Male             PhD    Senior Project Engineer   \n",
      "5420  34.0  Female             PhD          Research Director   \n",
      "6169  32.0    Male      Bachelor's            Product Manager   \n",
      "1474  43.0    Male             PhD  Software Engineer Manager   \n",
      "...    ...     ...             ...                        ...   \n",
      "4618  34.0    Male        Master's              Web Developer   \n",
      "334   36.0  Female      Bachelor's   Senior Marketing Manager   \n",
      "2035  27.0    Male      Bachelor's        Front end Developer   \n",
      "6439  27.0    Male             PhD          Marketing Manager   \n",
      "3758  25.0  Female      Bachelor's  Junior Software Developer   \n",
      "\n",
      "      Years of Experience  \n",
      "3405                  8.0  \n",
      "2245                 17.0  \n",
      "5420                 11.0  \n",
      "6169                  7.0  \n",
      "1474                 13.0  \n",
      "...                   ...  \n",
      "4618                  8.0  \n",
      "334                   8.0  \n",
      "2035                  2.0  \n",
      "6439                  4.0  \n",
      "3758                  1.0  \n",
      "\n",
      "[1341 rows x 5 columns]\n",
      "586     110000.0\n",
      "6180     95000.0\n",
      "4146     41000.0\n",
      "1715    165000.0\n",
      "2574    193746.0\n",
      "          ...   \n",
      "3915    120000.0\n",
      "1428    100000.0\n",
      "6537     35000.0\n",
      "4367     36000.0\n",
      "2522    101186.0\n",
      "Name: Salary, Length: 5363, dtype: float64\n",
      "3405     95000.0\n",
      "2245    195000.0\n",
      "5420    160000.0\n",
      "6169    120000.0\n",
      "1474    180000.0\n",
      "          ...   \n",
      "4618     90000.0\n",
      "334      95000.0\n",
      "2035     65000.0\n",
      "6439     55000.0\n",
      "3758     35000.0\n",
      "Name: Salary, Length: 1341, dtype: float64\n"
     ]
    }
   ],
   "source": [
    "print(X_train)\n",
    "print(X_test)\n",
    "print(y_train)\n",
    "print(y_test)"
   ]
  },
  {
   "attachments": {},
   "cell_type": "markdown",
   "metadata": {},
   "source": [
    "### Create the Model and Fit to Training Data All With Pipeline"
   ]
  },
  {
   "cell_type": "code",
   "execution_count": 953,
   "metadata": {},
   "outputs": [
    {
     "data": {
      "text/html": [
       "<style>#sk-container-id-34 {color: black;}#sk-container-id-34 pre{padding: 0;}#sk-container-id-34 div.sk-toggleable {background-color: white;}#sk-container-id-34 label.sk-toggleable__label {cursor: pointer;display: block;width: 100%;margin-bottom: 0;padding: 0.3em;box-sizing: border-box;text-align: center;}#sk-container-id-34 label.sk-toggleable__label-arrow:before {content: \"▸\";float: left;margin-right: 0.25em;color: #696969;}#sk-container-id-34 label.sk-toggleable__label-arrow:hover:before {color: black;}#sk-container-id-34 div.sk-estimator:hover label.sk-toggleable__label-arrow:before {color: black;}#sk-container-id-34 div.sk-toggleable__content {max-height: 0;max-width: 0;overflow: hidden;text-align: left;background-color: #f0f8ff;}#sk-container-id-34 div.sk-toggleable__content pre {margin: 0.2em;color: black;border-radius: 0.25em;background-color: #f0f8ff;}#sk-container-id-34 input.sk-toggleable__control:checked~div.sk-toggleable__content {max-height: 200px;max-width: 100%;overflow: auto;}#sk-container-id-34 input.sk-toggleable__control:checked~label.sk-toggleable__label-arrow:before {content: \"▾\";}#sk-container-id-34 div.sk-estimator input.sk-toggleable__control:checked~label.sk-toggleable__label {background-color: #d4ebff;}#sk-container-id-34 div.sk-label input.sk-toggleable__control:checked~label.sk-toggleable__label {background-color: #d4ebff;}#sk-container-id-34 input.sk-hidden--visually {border: 0;clip: rect(1px 1px 1px 1px);clip: rect(1px, 1px, 1px, 1px);height: 1px;margin: -1px;overflow: hidden;padding: 0;position: absolute;width: 1px;}#sk-container-id-34 div.sk-estimator {font-family: monospace;background-color: #f0f8ff;border: 1px dotted black;border-radius: 0.25em;box-sizing: border-box;margin-bottom: 0.5em;}#sk-container-id-34 div.sk-estimator:hover {background-color: #d4ebff;}#sk-container-id-34 div.sk-parallel-item::after {content: \"\";width: 100%;border-bottom: 1px solid gray;flex-grow: 1;}#sk-container-id-34 div.sk-label:hover label.sk-toggleable__label {background-color: #d4ebff;}#sk-container-id-34 div.sk-serial::before {content: \"\";position: absolute;border-left: 1px solid gray;box-sizing: border-box;top: 0;bottom: 0;left: 50%;z-index: 0;}#sk-container-id-34 div.sk-serial {display: flex;flex-direction: column;align-items: center;background-color: white;padding-right: 0.2em;padding-left: 0.2em;position: relative;}#sk-container-id-34 div.sk-item {position: relative;z-index: 1;}#sk-container-id-34 div.sk-parallel {display: flex;align-items: stretch;justify-content: center;background-color: white;position: relative;}#sk-container-id-34 div.sk-item::before, #sk-container-id-34 div.sk-parallel-item::before {content: \"\";position: absolute;border-left: 1px solid gray;box-sizing: border-box;top: 0;bottom: 0;left: 50%;z-index: -1;}#sk-container-id-34 div.sk-parallel-item {display: flex;flex-direction: column;z-index: 1;position: relative;background-color: white;}#sk-container-id-34 div.sk-parallel-item:first-child::after {align-self: flex-end;width: 50%;}#sk-container-id-34 div.sk-parallel-item:last-child::after {align-self: flex-start;width: 50%;}#sk-container-id-34 div.sk-parallel-item:only-child::after {width: 0;}#sk-container-id-34 div.sk-dashed-wrapped {border: 1px dashed gray;margin: 0 0.4em 0.5em 0.4em;box-sizing: border-box;padding-bottom: 0.4em;background-color: white;}#sk-container-id-34 div.sk-label label {font-family: monospace;font-weight: bold;display: inline-block;line-height: 1.2em;}#sk-container-id-34 div.sk-label-container {text-align: center;}#sk-container-id-34 div.sk-container {/* jupyter's `normalize.less` sets `[hidden] { display: none; }` but bootstrap.min.css set `[hidden] { display: none !important; }` so we also need the `!important` here to be able to override the default hidden behavior on the sphinx rendered scikit-learn.org. See: https://github.com/scikit-learn/scikit-learn/issues/21755 */display: inline-block !important;position: relative;}#sk-container-id-34 div.sk-text-repr-fallback {display: none;}</style><div id=\"sk-container-id-34\" class=\"sk-top-container\"><div class=\"sk-text-repr-fallback\"><pre>Pipeline(steps=[(&#x27;preprocessor&#x27;,\n",
       "                 ColumnTransformer(transformers=[(&#x27;numeric&#x27;, StandardScaler(),\n",
       "                                                  [&#x27;Age&#x27;,\n",
       "                                                   &#x27;Years of Experience&#x27;]),\n",
       "                                                 (&#x27;categorical&#x27;,\n",
       "                                                  OneHotEncoder(drop=&#x27;first&#x27;,\n",
       "                                                                handle_unknown=&#x27;ignore&#x27;),\n",
       "                                                  [&#x27;Gender&#x27;,\n",
       "                                                   &#x27;Education Level&#x27;]),\n",
       "                                                 (&#x27;job&#x27;, TargetEncoder(),\n",
       "                                                  [&#x27;Job Title&#x27;])])),\n",
       "                (&#x27;model&#x27;, Lasso(alpha=0.5))])</pre><b>In a Jupyter environment, please rerun this cell to show the HTML representation or trust the notebook. <br />On GitHub, the HTML representation is unable to render, please try loading this page with nbviewer.org.</b></div><div class=\"sk-container\" hidden><div class=\"sk-item sk-dashed-wrapped\"><div class=\"sk-label-container\"><div class=\"sk-label sk-toggleable\"><input class=\"sk-toggleable__control sk-hidden--visually\" id=\"sk-estimator-id-278\" type=\"checkbox\" ><label for=\"sk-estimator-id-278\" class=\"sk-toggleable__label sk-toggleable__label-arrow\">Pipeline</label><div class=\"sk-toggleable__content\"><pre>Pipeline(steps=[(&#x27;preprocessor&#x27;,\n",
       "                 ColumnTransformer(transformers=[(&#x27;numeric&#x27;, StandardScaler(),\n",
       "                                                  [&#x27;Age&#x27;,\n",
       "                                                   &#x27;Years of Experience&#x27;]),\n",
       "                                                 (&#x27;categorical&#x27;,\n",
       "                                                  OneHotEncoder(drop=&#x27;first&#x27;,\n",
       "                                                                handle_unknown=&#x27;ignore&#x27;),\n",
       "                                                  [&#x27;Gender&#x27;,\n",
       "                                                   &#x27;Education Level&#x27;]),\n",
       "                                                 (&#x27;job&#x27;, TargetEncoder(),\n",
       "                                                  [&#x27;Job Title&#x27;])])),\n",
       "                (&#x27;model&#x27;, Lasso(alpha=0.5))])</pre></div></div></div><div class=\"sk-serial\"><div class=\"sk-item sk-dashed-wrapped\"><div class=\"sk-label-container\"><div class=\"sk-label sk-toggleable\"><input class=\"sk-toggleable__control sk-hidden--visually\" id=\"sk-estimator-id-279\" type=\"checkbox\" ><label for=\"sk-estimator-id-279\" class=\"sk-toggleable__label sk-toggleable__label-arrow\">preprocessor: ColumnTransformer</label><div class=\"sk-toggleable__content\"><pre>ColumnTransformer(transformers=[(&#x27;numeric&#x27;, StandardScaler(),\n",
       "                                 [&#x27;Age&#x27;, &#x27;Years of Experience&#x27;]),\n",
       "                                (&#x27;categorical&#x27;,\n",
       "                                 OneHotEncoder(drop=&#x27;first&#x27;,\n",
       "                                               handle_unknown=&#x27;ignore&#x27;),\n",
       "                                 [&#x27;Gender&#x27;, &#x27;Education Level&#x27;]),\n",
       "                                (&#x27;job&#x27;, TargetEncoder(), [&#x27;Job Title&#x27;])])</pre></div></div></div><div class=\"sk-parallel\"><div class=\"sk-parallel-item\"><div class=\"sk-item\"><div class=\"sk-label-container\"><div class=\"sk-label sk-toggleable\"><input class=\"sk-toggleable__control sk-hidden--visually\" id=\"sk-estimator-id-280\" type=\"checkbox\" ><label for=\"sk-estimator-id-280\" class=\"sk-toggleable__label sk-toggleable__label-arrow\">numeric</label><div class=\"sk-toggleable__content\"><pre>[&#x27;Age&#x27;, &#x27;Years of Experience&#x27;]</pre></div></div></div><div class=\"sk-serial\"><div class=\"sk-item\"><div class=\"sk-estimator sk-toggleable\"><input class=\"sk-toggleable__control sk-hidden--visually\" id=\"sk-estimator-id-281\" type=\"checkbox\" ><label for=\"sk-estimator-id-281\" class=\"sk-toggleable__label sk-toggleable__label-arrow\">StandardScaler</label><div class=\"sk-toggleable__content\"><pre>StandardScaler()</pre></div></div></div></div></div></div><div class=\"sk-parallel-item\"><div class=\"sk-item\"><div class=\"sk-label-container\"><div class=\"sk-label sk-toggleable\"><input class=\"sk-toggleable__control sk-hidden--visually\" id=\"sk-estimator-id-282\" type=\"checkbox\" ><label for=\"sk-estimator-id-282\" class=\"sk-toggleable__label sk-toggleable__label-arrow\">categorical</label><div class=\"sk-toggleable__content\"><pre>[&#x27;Gender&#x27;, &#x27;Education Level&#x27;]</pre></div></div></div><div class=\"sk-serial\"><div class=\"sk-item\"><div class=\"sk-estimator sk-toggleable\"><input class=\"sk-toggleable__control sk-hidden--visually\" id=\"sk-estimator-id-283\" type=\"checkbox\" ><label for=\"sk-estimator-id-283\" class=\"sk-toggleable__label sk-toggleable__label-arrow\">OneHotEncoder</label><div class=\"sk-toggleable__content\"><pre>OneHotEncoder(drop=&#x27;first&#x27;, handle_unknown=&#x27;ignore&#x27;)</pre></div></div></div></div></div></div><div class=\"sk-parallel-item\"><div class=\"sk-item\"><div class=\"sk-label-container\"><div class=\"sk-label sk-toggleable\"><input class=\"sk-toggleable__control sk-hidden--visually\" id=\"sk-estimator-id-284\" type=\"checkbox\" ><label for=\"sk-estimator-id-284\" class=\"sk-toggleable__label sk-toggleable__label-arrow\">job</label><div class=\"sk-toggleable__content\"><pre>[&#x27;Job Title&#x27;]</pre></div></div></div><div class=\"sk-serial\"><div class=\"sk-item\"><div class=\"sk-estimator sk-toggleable\"><input class=\"sk-toggleable__control sk-hidden--visually\" id=\"sk-estimator-id-285\" type=\"checkbox\" ><label for=\"sk-estimator-id-285\" class=\"sk-toggleable__label sk-toggleable__label-arrow\">TargetEncoder</label><div class=\"sk-toggleable__content\"><pre>TargetEncoder()</pre></div></div></div></div></div></div></div></div><div class=\"sk-item\"><div class=\"sk-estimator sk-toggleable\"><input class=\"sk-toggleable__control sk-hidden--visually\" id=\"sk-estimator-id-286\" type=\"checkbox\" ><label for=\"sk-estimator-id-286\" class=\"sk-toggleable__label sk-toggleable__label-arrow\">Lasso</label><div class=\"sk-toggleable__content\"><pre>Lasso(alpha=0.5)</pre></div></div></div></div></div></div></div>"
      ],
      "text/plain": [
       "Pipeline(steps=[('preprocessor',\n",
       "                 ColumnTransformer(transformers=[('numeric', StandardScaler(),\n",
       "                                                  ['Age',\n",
       "                                                   'Years of Experience']),\n",
       "                                                 ('categorical',\n",
       "                                                  OneHotEncoder(drop='first',\n",
       "                                                                handle_unknown='ignore'),\n",
       "                                                  ['Gender',\n",
       "                                                   'Education Level']),\n",
       "                                                 ('job', TargetEncoder(),\n",
       "                                                  ['Job Title'])])),\n",
       "                ('model', Lasso(alpha=0.5))])"
      ]
     },
     "execution_count": 953,
     "metadata": {},
     "output_type": "execute_result"
    }
   ],
   "source": [
    "pipeline.fit(X_train,y_train)"
   ]
  },
  {
   "attachments": {},
   "cell_type": "markdown",
   "metadata": {},
   "source": [
    "### Predict on the Test Data"
   ]
  },
  {
   "cell_type": "code",
   "execution_count": 954,
   "metadata": {},
   "outputs": [],
   "source": [
    "y_pred = pipeline.predict(X_test)"
   ]
  },
  {
   "cell_type": "code",
   "execution_count": 955,
   "metadata": {},
   "outputs": [
    {
     "name": "stdout",
     "output_type": "stream",
     "text": [
      "[ 98392.77100102 180287.1610468  156346.77462003 ...  72602.76743669\n",
      " 102540.28469505  38517.84360371]\n"
     ]
    }
   ],
   "source": [
    "print(y_pred)"
   ]
  },
  {
   "cell_type": "code",
   "execution_count": 956,
   "metadata": {},
   "outputs": [
    {
     "name": "stdout",
     "output_type": "stream",
     "text": [
      "3405     95000.0\n",
      "2245    195000.0\n",
      "5420    160000.0\n",
      "6169    120000.0\n",
      "1474    180000.0\n",
      "          ...   \n",
      "4618     90000.0\n",
      "334      95000.0\n",
      "2035     65000.0\n",
      "6439     55000.0\n",
      "3758     35000.0\n",
      "Name: Salary, Length: 1341, dtype: float64\n"
     ]
    }
   ],
   "source": [
    "print(y_test)"
   ]
  },
  {
   "attachments": {},
   "cell_type": "markdown",
   "metadata": {},
   "source": [
    "### Change this to a better format"
   ]
  },
  {
   "cell_type": "code",
   "execution_count": 957,
   "metadata": {},
   "outputs": [],
   "source": [
    "y_test_series = pd.Series(y_test)\n",
    "y_pred_series = pd.Series(y_pred)"
   ]
  },
  {
   "cell_type": "code",
   "execution_count": 958,
   "metadata": {},
   "outputs": [
    {
     "name": "stdout",
     "output_type": "stream",
     "text": [
      "3405     95000.0\n",
      "2245    195000.0\n",
      "5420    160000.0\n",
      "6169    120000.0\n",
      "1474    180000.0\n",
      "          ...   \n",
      "4618     90000.0\n",
      "334      95000.0\n",
      "2035     65000.0\n",
      "6439     55000.0\n",
      "3758     35000.0\n",
      "Name: Salary, Length: 1341, dtype: float64\n",
      "0        98392.771001\n",
      "1       180287.161047\n",
      "2       156346.774620\n",
      "3       127306.187721\n",
      "4       167627.233988\n",
      "            ...      \n",
      "1336     90586.140462\n",
      "1337    119539.965831\n",
      "1338     72602.767437\n",
      "1339    102540.284695\n",
      "1340     38517.843604\n",
      "Length: 1341, dtype: float64\n"
     ]
    }
   ],
   "source": [
    "print(y_test_series)\n",
    "print(y_pred_series)"
   ]
  },
  {
   "attachments": {},
   "cell_type": "markdown",
   "metadata": {},
   "source": [
    "### Create a DataFrame for Comparison"
   ]
  },
  {
   "cell_type": "code",
   "execution_count": 959,
   "metadata": {},
   "outputs": [
    {
     "name": "stdout",
     "output_type": "stream",
     "text": [
      "        Actual      Predicted\n",
      "0      95000.0   98392.771001\n",
      "1     195000.0  180287.161047\n",
      "2     160000.0  156346.774620\n",
      "3     120000.0  127306.187721\n",
      "4     180000.0  167627.233988\n",
      "...        ...            ...\n",
      "1336   90000.0   90586.140462\n",
      "1337   95000.0  119539.965831\n",
      "1338   65000.0   72602.767437\n",
      "1339   55000.0  102540.284695\n",
      "1340   35000.0   38517.843604\n",
      "\n",
      "[1341 rows x 2 columns]\n"
     ]
    }
   ],
   "source": [
    "comparison_df = pd.concat([y_test_series.reset_index(drop=True), y_pred_series], axis=1)\n",
    "comparison_df.columns = [\"Actual\", \"Predicted\"]\n",
    "\n",
    "print(comparison_df)"
   ]
  },
  {
   "attachments": {},
   "cell_type": "markdown",
   "metadata": {},
   "source": [
    "### Evaluate the Model"
   ]
  },
  {
   "cell_type": "code",
   "execution_count": 960,
   "metadata": {},
   "outputs": [],
   "source": [
    "from sklearn.metrics import mean_squared_error, mean_absolute_error, r2_score\n",
    "\n",
    "mse = mean_squared_error(y_test_series.values, y_pred_series.values)\n",
    "rmse = np.sqrt(mean_squared_error(y_test_series.values, y_pred_series.values))\n",
    "mae = mean_absolute_error(y_test_series.values, y_pred_series.values)\n",
    "r2 = r2_score(y_test_series.values, y_pred_series.values)\n"
   ]
  },
  {
   "cell_type": "code",
   "execution_count": 961,
   "metadata": {},
   "outputs": [
    {
     "name": "stdout",
     "output_type": "stream",
     "text": [
      "Mean Squared Error:  554732139.9899278\n",
      "Root Mean Squared Error:  23552.752280570687\n",
      "Mean Absolute Error:  17516.91309158701\n",
      "R-Squared Score:  0.8058282435904395\n"
     ]
    }
   ],
   "source": [
    "print(\"Mean Squared Error: \", mse)\n",
    "print(\"Root Mean Squared Error: \", rmse)\n",
    "print(\"Mean Absolute Error: \", mae)\n",
    "print(\"R-Squared Score: \", r2)"
   ]
  },
  {
   "attachments": {},
   "cell_type": "markdown",
   "metadata": {},
   "source": [
    "### Visualize Actual vs. Predicted"
   ]
  },
  {
   "cell_type": "code",
   "execution_count": 962,
   "metadata": {},
   "outputs": [
    {
     "data": {
      "text/plain": [
       "Text(0.5, 1.0, 'Actual vs. Predicted Values')"
      ]
     },
     "execution_count": 962,
     "metadata": {},
     "output_type": "execute_result"
    },
    {
     "data": {
      "image/png": "[encoded data removed]",
      "text/plain": [
       "<Figure size 640x480 with 1 Axes>"
      ]
     },
     "metadata": {},
     "output_type": "display_data"
    }
   ],
   "source": [
    "plt.scatter(y_test_series.values, y_pred_series.values)\n",
    "plt.xlabel(\"Actual Values\")\n",
    "plt.ylabel(\"Predicted Values\")\n",
    "plt.title(\"Actual vs. Predicted Values\")"
   ]
  },
  {
   "cell_type": "code",
   "execution_count": 963,
   "metadata": {},
   "outputs": [
    {
     "data": {
      "image/png": "[encoded data removed]",
      "text/plain": [
       "<Figure size 640x480 with 1 Axes>"
      ]
     },
     "metadata": {},
     "output_type": "display_data"
    }
   ],
   "source": [
    "\n",
    "residuals = y_test_series.values - y_pred_series.values\n",
    "plt.scatter(y_pred_series.values, residuals)\n",
    "plt.axhline(y=0, color='r', linestyle='--')\n",
    "plt.xlabel('Predicted Values')\n",
    "plt.ylabel('Residuals')\n",
    "plt.title('Residual Plot')\n",
    "plt.show()"
   ]
  },
  {
   "attachments": {},
   "cell_type": "markdown",
   "metadata": {},
   "source": [
    "### Testing New Data"
   ]
  },
  {
   "cell_type": "code",
   "execution_count": 964,
   "metadata": {},
   "outputs": [],
   "source": [
    "# new_data = {\n",
    "#     \"Age\" : [23],\n",
    "#     \"Gender_Male\" : [1],\n",
    "#     \"Gender_Other\" : [0],\n",
    "#     \"Education Level_High School\" : [0],\n",
    "#     \"Education Level_Master's\" : [0],\n",
    "#     \"Education Level_PhD\" : [0],\n",
    "#     \"Job Title\": [\"Junior Software Engineer\"],\n",
    "#     \"Years of Experience\": [1],\n",
    "# }\n",
    "\n",
    "new_data = {\n",
    "    \"Age\" : [18],\n",
    "    \"Gender\" : [\"Male\"],\n",
    "    \"Education Level\" : [\"Bachelor's\"],\n",
    "    \"Job Title\": [\"Junior Software Engineer\"],\n",
    "    \"Years of Experience\": [2],\n",
    "}\n",
    "\n",
    "new_df = pd.DataFrame(new_data)\n",
    "\n",
    "\n",
    "encoded_features = preprocessor.named_transformers_[\"categorical\"].get_feature_names_out()\n"
   ]
  },
  {
   "cell_type": "code",
   "execution_count": 965,
   "metadata": {},
   "outputs": [
    {
     "name": "stdout",
     "output_type": "stream",
     "text": [
      "   Age Gender Education Level                 Job Title  Years of Experience\n",
      "0   45   Male      Bachelor's  Junior Software Engineer                    2\n",
      "['Gender_Male' 'Gender_Other' 'Education Level_High School'\n",
      " \"Education Level_Master's\" 'Education Level_PhD']\n"
     ]
    }
   ],
   "source": [
    "print(new_df)\n",
    "print(encoded_features)"
   ]
  },
  {
   "cell_type": "code",
   "execution_count": 966,
   "metadata": {},
   "outputs": [
    {
     "name": "stdout",
     "output_type": "stream",
     "text": [
      "   Age Gender Education Level                 Job Title  Years of Experience\n",
      "0   45   Male      Bachelor's  Junior Software Engineer                    2\n"
     ]
    }
   ],
   "source": [
    "# new_df = preprocessor.transform(new_df)\n",
    "\n",
    "print(new_df)\n"
   ]
  },
  {
   "cell_type": "code",
   "execution_count": 967,
   "metadata": {},
   "outputs": [],
   "source": [
    "new_pred = pipeline.predict(new_df)"
   ]
  },
  {
   "cell_type": "code",
   "execution_count": 968,
   "metadata": {},
   "outputs": [
    {
     "name": "stdout",
     "output_type": "stream",
     "text": [
      "[37615.15762619]\n"
     ]
    }
   ],
   "source": [
    "print(new_pred)"
   ]
  }
 ],
 "metadata": {
  "kernelspec": {
   "display_name": ".venv",
   "language": "python",
   "name": "python3"
  },
  "language_info": {
   "codemirror_mode": {
    "name": "ipython",
    "version": 3
   },
   "file_extension": ".py",
   "mimetype": "text/x-python",
   "name": "python",
   "nbconvert_exporter": "python",
   "pygments_lexer": "ipython3",
   "version": "3.10.6"
  },
  "orig_nbformat": 4
 },
 "nbformat": 4,
 "nbformat_minor": 2
}
