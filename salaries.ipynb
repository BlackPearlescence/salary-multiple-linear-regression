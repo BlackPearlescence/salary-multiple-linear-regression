{
 "cells": [
  {
   "attachments": {},
   "cell_type": "markdown",
   "metadata": {},
   "source": [
    "### Import Libraries"
   ]
  },
  {
   "cell_type": "code",
   "execution_count": 27,
   "metadata": {},
   "outputs": [],
   "source": [
    "import pandas as pd\n",
    "from sklearn.model_selection import train_test_split\n",
    "from sklearn.impute import SimpleImputer\n",
    "from sklearn.preprocessing import OneHotEncoder\n",
    "from sklearn.linear_model import Lasso"
   ]
  },
  {
   "attachments": {},
   "cell_type": "markdown",
   "metadata": {},
   "source": [
    "### Import Dataset"
   ]
  },
  {
   "cell_type": "code",
   "execution_count": 28,
   "metadata": {},
   "outputs": [],
   "source": [
    "df = pd.read_csv(\"Salary_Data.csv\")"
   ]
  },
  {
   "cell_type": "code",
   "execution_count": 29,
   "metadata": {},
   "outputs": [
    {
     "name": "stdout",
     "output_type": "stream",
     "text": [
      "    Age  Gender Education Level          Job Title  Years of Experience  \\\n",
      "0  32.0    Male      Bachelor's  Software Engineer                  5.0   \n",
      "1  28.0  Female        Master's       Data Analyst                  3.0   \n",
      "2  45.0    Male             PhD     Senior Manager                 15.0   \n",
      "3  36.0  Female      Bachelor's    Sales Associate                  7.0   \n",
      "4  52.0    Male        Master's           Director                 20.0   \n",
      "\n",
      "     Salary  \n",
      "0   90000.0  \n",
      "1   65000.0  \n",
      "2  150000.0  \n",
      "3   60000.0  \n",
      "4  200000.0  \n"
     ]
    }
   ],
   "source": [
    "print(df.head())"
   ]
  },
  {
   "attachments": {},
   "cell_type": "markdown",
   "metadata": {},
   "source": [
    "### Check for null values"
   ]
  },
  {
   "cell_type": "code",
   "execution_count": 30,
   "metadata": {},
   "outputs": [
    {
     "name": "stdout",
     "output_type": "stream",
     "text": [
      "True\n",
      "Age                    2\n",
      "Gender                 2\n",
      "Education Level        3\n",
      "Job Title              2\n",
      "Years of Experience    3\n",
      "Salary                 5\n",
      "dtype: int64\n"
     ]
    }
   ],
   "source": [
    "print(df.isnull().values.any())\n",
    "print(df.isnull().sum())"
   ]
  },
  {
   "attachments": {},
   "cell_type": "markdown",
   "metadata": {},
   "source": [
    "### Imputing"
   ]
  },
  {
   "cell_type": "code",
   "execution_count": 31,
   "metadata": {},
   "outputs": [],
   "source": [
    "num_cols = [\"Age\",\"Years of Experience\",\"Salary\"]\n",
    "cat_cols = [\"Gender\", \"Education Level\", \"Job Title\"]\n",
    "\n",
    "imputer = SimpleImputer(strategy=\"mean\")\n",
    "df[num_cols] = imputer.fit_transform(df[num_cols])\n",
    "imputer = SimpleImputer(strategy=\"most_frequent\")\n",
    "df[cat_cols] = imputer.fit_transform(df[cat_cols])"
   ]
  },
  {
   "cell_type": "code",
   "execution_count": 32,
   "metadata": {},
   "outputs": [
    {
     "name": "stdout",
     "output_type": "stream",
     "text": [
      "False\n",
      "Age                    0\n",
      "Gender                 0\n",
      "Education Level        0\n",
      "Job Title              0\n",
      "Years of Experience    0\n",
      "Salary                 0\n",
      "dtype: int64\n"
     ]
    }
   ],
   "source": [
    "print(df.isnull().values.any())\n",
    "print(df.isnull().sum())"
   ]
  },
  {
   "attachments": {},
   "cell_type": "markdown",
   "metadata": {},
   "source": [
    "### Split Features from the Independent Variable"
   ]
  },
  {
   "cell_type": "code",
   "execution_count": 33,
   "metadata": {},
   "outputs": [],
   "source": [
    "X = df.iloc[:, :-1]\n",
    "y = df.iloc[:,-1]"
   ]
  },
  {
   "attachments": {},
   "cell_type": "markdown",
   "metadata": {},
   "source": [
    "### Encoding Categorical Data"
   ]
  },
  {
   "cell_type": "code",
   "execution_count": 34,
   "metadata": {},
   "outputs": [],
   "source": [
    "df_encoded = pd.get_dummies(df, columns=cat_cols, drop_first=True)"
   ]
  },
  {
   "cell_type": "code",
   "execution_count": 35,
   "metadata": {},
   "outputs": [
    {
     "name": "stdout",
     "output_type": "stream",
     "text": [
      "       Age  Years of Experience    Salary  Gender_Male  Gender_Other  \\\n",
      "0     32.0                  5.0   90000.0         True         False   \n",
      "1     28.0                  3.0   65000.0        False         False   \n",
      "2     45.0                 15.0  150000.0         True         False   \n",
      "3     36.0                  7.0   60000.0        False         False   \n",
      "4     52.0                 20.0  200000.0         True         False   \n",
      "...    ...                  ...       ...          ...           ...   \n",
      "6699  49.0                 20.0  200000.0        False         False   \n",
      "6700  32.0                  3.0   50000.0         True         False   \n",
      "6701  30.0                  4.0   55000.0        False         False   \n",
      "6702  46.0                 14.0  140000.0         True         False   \n",
      "6703  26.0                  1.0   35000.0        False         False   \n",
      "\n",
      "      Education Level_Bachelor's Degree  Education Level_High School  \\\n",
      "0                                 False                        False   \n",
      "1                                 False                        False   \n",
      "2                                 False                        False   \n",
      "3                                 False                        False   \n",
      "4                                 False                        False   \n",
      "...                                 ...                          ...   \n",
      "6699                              False                        False   \n",
      "6700                              False                         True   \n",
      "6701                               True                        False   \n",
      "6702                              False                        False   \n",
      "6703                              False                         True   \n",
      "\n",
      "      Education Level_Master's  Education Level_Master's Degree  \\\n",
      "0                        False                            False   \n",
      "1                         True                            False   \n",
      "2                        False                            False   \n",
      "3                        False                            False   \n",
      "4                         True                            False   \n",
      "...                        ...                              ...   \n",
      "6699                     False                            False   \n",
      "6700                     False                            False   \n",
      "6701                     False                            False   \n",
      "6702                     False                             True   \n",
      "6703                     False                            False   \n",
      "\n",
      "      Education Level_PhD  ...  Job Title_Supply Chain Manager  \\\n",
      "0                   False  ...                           False   \n",
      "1                   False  ...                           False   \n",
      "2                    True  ...                           False   \n",
      "3                   False  ...                           False   \n",
      "4                   False  ...                           False   \n",
      "...                   ...  ...                             ...   \n",
      "6699                 True  ...                           False   \n",
      "6700                False  ...                           False   \n",
      "6701                False  ...                           False   \n",
      "6702                False  ...                           False   \n",
      "6703                False  ...                           False   \n",
      "\n",
      "      Job Title_Technical Recruiter  Job Title_Technical Support Specialist  \\\n",
      "0                             False                                   False   \n",
      "1                             False                                   False   \n",
      "2                             False                                   False   \n",
      "3                             False                                   False   \n",
      "4                             False                                   False   \n",
      "...                             ...                                     ...   \n",
      "6699                          False                                   False   \n",
      "6700                          False                                   False   \n",
      "6701                          False                                   False   \n",
      "6702                          False                                   False   \n",
      "6703                          False                                   False   \n",
      "\n",
      "      Job Title_Technical Writer  Job Title_Training Specialist  \\\n",
      "0                          False                          False   \n",
      "1                          False                          False   \n",
      "2                          False                          False   \n",
      "3                          False                          False   \n",
      "4                          False                          False   \n",
      "...                          ...                            ...   \n",
      "6699                       False                          False   \n",
      "6700                       False                          False   \n",
      "6701                       False                          False   \n",
      "6702                       False                          False   \n",
      "6703                       False                          False   \n",
      "\n",
      "      Job Title_UX Designer  Job Title_UX Researcher  Job Title_VP of Finance  \\\n",
      "0                     False                    False                    False   \n",
      "1                     False                    False                    False   \n",
      "2                     False                    False                    False   \n",
      "3                     False                    False                    False   \n",
      "4                     False                    False                    False   \n",
      "...                     ...                      ...                      ...   \n",
      "6699                  False                    False                    False   \n",
      "6700                  False                    False                    False   \n",
      "6701                  False                    False                    False   \n",
      "6702                  False                    False                    False   \n",
      "6703                  False                    False                    False   \n",
      "\n",
      "      Job Title_VP of Operations  Job Title_Web Developer  \n",
      "0                          False                    False  \n",
      "1                          False                    False  \n",
      "2                          False                    False  \n",
      "3                          False                    False  \n",
      "4                          False                    False  \n",
      "...                          ...                      ...  \n",
      "6699                       False                    False  \n",
      "6700                       False                    False  \n",
      "6701                       False                    False  \n",
      "6702                       False                    False  \n",
      "6703                       False                    False  \n",
      "\n",
      "[6704 rows x 203 columns]\n"
     ]
    }
   ],
   "source": [
    "print(df_encoded)"
   ]
  }
 ],
 "metadata": {
  "kernelspec": {
   "display_name": ".venv",
   "language": "python",
   "name": "python3"
  },
  "language_info": {
   "codemirror_mode": {
    "name": "ipython",
    "version": 3
   },
   "file_extension": ".py",
   "mimetype": "text/x-python",
   "name": "python",
   "nbconvert_exporter": "python",
   "pygments_lexer": "ipython3",
   "version": "3.10.6"
  },
  "orig_nbformat": 4
 },
 "nbformat": 4,
 "nbformat_minor": 2
}
