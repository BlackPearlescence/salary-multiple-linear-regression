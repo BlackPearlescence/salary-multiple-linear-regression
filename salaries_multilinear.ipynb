{
 "cells": [
  {
   "attachments": {},
   "cell_type": "markdown",
   "metadata": {},
   "source": [
    "### Import Libraries"
   ]
  },
  {
   "cell_type": "code",
   "execution_count": 15,
   "metadata": {},
   "outputs": [],
   "source": [
    "import pandas as pd\n",
    "import numpy as np\n",
    "from sklearn.model_selection import train_test_split\n",
    "from sklearn.impute import SimpleImputer\n",
    "from sklearn.preprocessing import OneHotEncoder\n",
    "from sklearn.linear_model import LinearRegression\n",
    "from sklearn.preprocessing import StandardScaler\n",
    "import matplotlib.pyplot as plt"
   ]
  },
  {
   "attachments": {},
   "cell_type": "markdown",
   "metadata": {},
   "source": [
    "### Import Dataset"
   ]
  },
  {
   "cell_type": "code",
   "execution_count": 16,
   "metadata": {},
   "outputs": [],
   "source": [
    "df = pd.read_csv(\"Salary_Data.csv\")"
   ]
  },
  {
   "cell_type": "code",
   "execution_count": 17,
   "metadata": {},
   "outputs": [
    {
     "name": "stdout",
     "output_type": "stream",
     "text": [
      "    Age  Gender Education Level          Job Title  Years of Experience  \\\n",
      "0  32.0    Male      Bachelor's  Software Engineer                  5.0   \n",
      "1  28.0  Female        Master's       Data Analyst                  3.0   \n",
      "2  45.0    Male             PhD     Senior Manager                 15.0   \n",
      "3  36.0  Female      Bachelor's    Sales Associate                  7.0   \n",
      "4  52.0    Male        Master's           Director                 20.0   \n",
      "\n",
      "     Salary  \n",
      "0   90000.0  \n",
      "1   65000.0  \n",
      "2  150000.0  \n",
      "3   60000.0  \n",
      "4  200000.0  \n"
     ]
    }
   ],
   "source": [
    "print(df.head())"
   ]
  },
  {
   "attachments": {},
   "cell_type": "markdown",
   "metadata": {},
   "source": [
    "### Check for null values"
   ]
  },
  {
   "cell_type": "code",
   "execution_count": 18,
   "metadata": {},
   "outputs": [
    {
     "name": "stdout",
     "output_type": "stream",
     "text": [
      "True\n",
      "Age                    2\n",
      "Gender                 2\n",
      "Education Level        3\n",
      "Job Title              2\n",
      "Years of Experience    3\n",
      "Salary                 5\n",
      "dtype: int64\n"
     ]
    }
   ],
   "source": [
    "print(df.isnull().values.any())\n",
    "print(df.isnull().sum())"
   ]
  },
  {
   "attachments": {},
   "cell_type": "markdown",
   "metadata": {},
   "source": [
    "### Imputing"
   ]
  },
  {
   "cell_type": "code",
   "execution_count": 19,
   "metadata": {},
   "outputs": [],
   "source": [
    "num_cols = [\"Age\",\"Years of Experience\",\"Salary\"]\n",
    "cat_cols = [\"Gender\", \"Education Level\", \"Job Title\"]\n",
    "\n",
    "imputer = SimpleImputer(strategy=\"mean\")\n",
    "df[num_cols] = imputer.fit_transform(df[num_cols])\n",
    "imputer = SimpleImputer(strategy=\"most_frequent\")\n",
    "df[cat_cols] = imputer.fit_transform(df[cat_cols])"
   ]
  },
  {
   "cell_type": "code",
   "execution_count": 20,
   "metadata": {},
   "outputs": [
    {
     "name": "stdout",
     "output_type": "stream",
     "text": [
      "False\n",
      "Age                    0\n",
      "Gender                 0\n",
      "Education Level        0\n",
      "Job Title              0\n",
      "Years of Experience    0\n",
      "Salary                 0\n",
      "dtype: int64\n"
     ]
    }
   ],
   "source": [
    "print(df.isnull().values.any())\n",
    "print(df.isnull().sum())"
   ]
  },
  {
   "attachments": {},
   "cell_type": "markdown",
   "metadata": {},
   "source": [
    "### Split Features from the Independent Variable"
   ]
  },
  {
   "cell_type": "code",
   "execution_count": 21,
   "metadata": {},
   "outputs": [],
   "source": [
    "X = df.iloc[:, :-1]\n",
    "y = df.iloc[:,-1]"
   ]
  },
  {
   "attachments": {},
   "cell_type": "markdown",
   "metadata": {},
   "source": [
    "### Encoding Categorical Data"
   ]
  },
  {
   "cell_type": "code",
   "execution_count": 22,
   "metadata": {},
   "outputs": [],
   "source": [
    "X = pd.get_dummies(X, columns=cat_cols, drop_first=True)"
   ]
  },
  {
   "cell_type": "code",
   "execution_count": 23,
   "metadata": {},
   "outputs": [
    {
     "name": "stdout",
     "output_type": "stream",
     "text": [
      "       Age  Years of Experience  Gender_Male  Gender_Other  \\\n",
      "0     32.0                  5.0         True         False   \n",
      "1     28.0                  3.0        False         False   \n",
      "2     45.0                 15.0         True         False   \n",
      "3     36.0                  7.0        False         False   \n",
      "4     52.0                 20.0         True         False   \n",
      "...    ...                  ...          ...           ...   \n",
      "6699  49.0                 20.0        False         False   \n",
      "6700  32.0                  3.0         True         False   \n",
      "6701  30.0                  4.0        False         False   \n",
      "6702  46.0                 14.0         True         False   \n",
      "6703  26.0                  1.0        False         False   \n",
      "\n",
      "      Education Level_Bachelor's Degree  Education Level_High School  \\\n",
      "0                                 False                        False   \n",
      "1                                 False                        False   \n",
      "2                                 False                        False   \n",
      "3                                 False                        False   \n",
      "4                                 False                        False   \n",
      "...                                 ...                          ...   \n",
      "6699                              False                        False   \n",
      "6700                              False                         True   \n",
      "6701                               True                        False   \n",
      "6702                              False                        False   \n",
      "6703                              False                         True   \n",
      "\n",
      "      Education Level_Master's  Education Level_Master's Degree  \\\n",
      "0                        False                            False   \n",
      "1                         True                            False   \n",
      "2                        False                            False   \n",
      "3                        False                            False   \n",
      "4                         True                            False   \n",
      "...                        ...                              ...   \n",
      "6699                     False                            False   \n",
      "6700                     False                            False   \n",
      "6701                     False                            False   \n",
      "6702                     False                             True   \n",
      "6703                     False                            False   \n",
      "\n",
      "      Education Level_PhD  Education Level_phD  ...  \\\n",
      "0                   False                False  ...   \n",
      "1                   False                False  ...   \n",
      "2                    True                False  ...   \n",
      "3                   False                False  ...   \n",
      "4                   False                False  ...   \n",
      "...                   ...                  ...  ...   \n",
      "6699                 True                False  ...   \n",
      "6700                False                False  ...   \n",
      "6701                False                False  ...   \n",
      "6702                False                False  ...   \n",
      "6703                False                False  ...   \n",
      "\n",
      "      Job Title_Supply Chain Manager  Job Title_Technical Recruiter  \\\n",
      "0                              False                          False   \n",
      "1                              False                          False   \n",
      "2                              False                          False   \n",
      "3                              False                          False   \n",
      "4                              False                          False   \n",
      "...                              ...                            ...   \n",
      "6699                           False                          False   \n",
      "6700                           False                          False   \n",
      "6701                           False                          False   \n",
      "6702                           False                          False   \n",
      "6703                           False                          False   \n",
      "\n",
      "      Job Title_Technical Support Specialist  Job Title_Technical Writer  \\\n",
      "0                                      False                       False   \n",
      "1                                      False                       False   \n",
      "2                                      False                       False   \n",
      "3                                      False                       False   \n",
      "4                                      False                       False   \n",
      "...                                      ...                         ...   \n",
      "6699                                   False                       False   \n",
      "6700                                   False                       False   \n",
      "6701                                   False                       False   \n",
      "6702                                   False                       False   \n",
      "6703                                   False                       False   \n",
      "\n",
      "      Job Title_Training Specialist  Job Title_UX Designer  \\\n",
      "0                             False                  False   \n",
      "1                             False                  False   \n",
      "2                             False                  False   \n",
      "3                             False                  False   \n",
      "4                             False                  False   \n",
      "...                             ...                    ...   \n",
      "6699                          False                  False   \n",
      "6700                          False                  False   \n",
      "6701                          False                  False   \n",
      "6702                          False                  False   \n",
      "6703                          False                  False   \n",
      "\n",
      "      Job Title_UX Researcher  Job Title_VP of Finance  \\\n",
      "0                       False                    False   \n",
      "1                       False                    False   \n",
      "2                       False                    False   \n",
      "3                       False                    False   \n",
      "4                       False                    False   \n",
      "...                       ...                      ...   \n",
      "6699                    False                    False   \n",
      "6700                    False                    False   \n",
      "6701                    False                    False   \n",
      "6702                    False                    False   \n",
      "6703                    False                    False   \n",
      "\n",
      "      Job Title_VP of Operations  Job Title_Web Developer  \n",
      "0                          False                    False  \n",
      "1                          False                    False  \n",
      "2                          False                    False  \n",
      "3                          False                    False  \n",
      "4                          False                    False  \n",
      "...                          ...                      ...  \n",
      "6699                       False                    False  \n",
      "6700                       False                    False  \n",
      "6701                       False                    False  \n",
      "6702                       False                    False  \n",
      "6703                       False                    False  \n",
      "\n",
      "[6704 rows x 202 columns]\n"
     ]
    }
   ],
   "source": [
    "print(X)"
   ]
  },
  {
   "attachments": {},
   "cell_type": "markdown",
   "metadata": {},
   "source": [
    "### Splitting the Training Set and Test Set"
   ]
  },
  {
   "cell_type": "code",
   "execution_count": 24,
   "metadata": {},
   "outputs": [],
   "source": [
    "X_train, X_test, y_train, y_test = train_test_split(X, y, test_size=0.2, random_state=56)"
   ]
  },
  {
   "cell_type": "code",
   "execution_count": 25,
   "metadata": {},
   "outputs": [
    {
     "name": "stdout",
     "output_type": "stream",
     "text": [
      "       Age  Years of Experience  Gender_Male  Gender_Other  \\\n",
      "4770  26.0                  2.0         True         False   \n",
      "3644  29.0                  5.0        False         False   \n",
      "1900  47.0                 16.0         True         False   \n",
      "4634  27.0                  1.0        False         False   \n",
      "2971  49.0                 22.0        False         False   \n",
      "...    ...                  ...          ...           ...   \n",
      "1259  54.0                 17.0         True         False   \n",
      "5538  24.0                  0.0        False         False   \n",
      "3264  26.0                  2.0         True         False   \n",
      "399   29.0                  4.0         True         False   \n",
      "2532  38.0                 13.0        False         False   \n",
      "\n",
      "      Education Level_Bachelor's Degree  Education Level_High School  \\\n",
      "4770                              False                         True   \n",
      "3644                              False                        False   \n",
      "1900                              False                        False   \n",
      "4634                               True                        False   \n",
      "2971                              False                        False   \n",
      "...                                 ...                          ...   \n",
      "1259                              False                        False   \n",
      "5538                              False                         True   \n",
      "3264                               True                        False   \n",
      "399                               False                        False   \n",
      "2532                              False                        False   \n",
      "\n",
      "      Education Level_Master's  Education Level_Master's Degree  \\\n",
      "4770                     False                            False   \n",
      "3644                     False                             True   \n",
      "1900                     False                            False   \n",
      "4634                     False                            False   \n",
      "2971                     False                            False   \n",
      "...                        ...                              ...   \n",
      "1259                     False                            False   \n",
      "5538                     False                            False   \n",
      "3264                     False                            False   \n",
      "399                      False                            False   \n",
      "2532                     False                             True   \n",
      "\n",
      "      Education Level_PhD  Education Level_phD  ...  \\\n",
      "4770                False                False  ...   \n",
      "3644                False                False  ...   \n",
      "1900                 True                False  ...   \n",
      "4634                False                False  ...   \n",
      "2971                 True                False  ...   \n",
      "...                   ...                  ...  ...   \n",
      "1259                 True                False  ...   \n",
      "5538                False                False  ...   \n",
      "3264                False                False  ...   \n",
      "399                 False                False  ...   \n",
      "2532                False                False  ...   \n",
      "\n",
      "      Job Title_Supply Chain Manager  Job Title_Technical Recruiter  \\\n",
      "4770                           False                          False   \n",
      "3644                           False                          False   \n",
      "1900                           False                          False   \n",
      "4634                           False                          False   \n",
      "2971                           False                          False   \n",
      "...                              ...                            ...   \n",
      "1259                           False                          False   \n",
      "5538                           False                          False   \n",
      "3264                           False                          False   \n",
      "399                            False                          False   \n",
      "2532                           False                          False   \n",
      "\n",
      "      Job Title_Technical Support Specialist  Job Title_Technical Writer  \\\n",
      "4770                                   False                       False   \n",
      "3644                                   False                       False   \n",
      "1900                                   False                       False   \n",
      "4634                                   False                       False   \n",
      "2971                                   False                       False   \n",
      "...                                      ...                         ...   \n",
      "1259                                   False                       False   \n",
      "5538                                   False                       False   \n",
      "3264                                   False                       False   \n",
      "399                                    False                       False   \n",
      "2532                                   False                       False   \n",
      "\n",
      "      Job Title_Training Specialist  Job Title_UX Designer  \\\n",
      "4770                          False                  False   \n",
      "3644                          False                  False   \n",
      "1900                          False                  False   \n",
      "4634                          False                  False   \n",
      "2971                          False                  False   \n",
      "...                             ...                    ...   \n",
      "1259                          False                  False   \n",
      "5538                          False                  False   \n",
      "3264                          False                  False   \n",
      "399                           False                  False   \n",
      "2532                          False                  False   \n",
      "\n",
      "      Job Title_UX Researcher  Job Title_VP of Finance  \\\n",
      "4770                    False                    False   \n",
      "3644                    False                    False   \n",
      "1900                    False                    False   \n",
      "4634                    False                    False   \n",
      "2971                    False                    False   \n",
      "...                       ...                      ...   \n",
      "1259                    False                    False   \n",
      "5538                    False                    False   \n",
      "3264                    False                    False   \n",
      "399                     False                    False   \n",
      "2532                    False                    False   \n",
      "\n",
      "      Job Title_VP of Operations  Job Title_Web Developer  \n",
      "4770                       False                    False  \n",
      "3644                       False                    False  \n",
      "1900                       False                    False  \n",
      "4634                       False                    False  \n",
      "2971                       False                    False  \n",
      "...                          ...                      ...  \n",
      "1259                       False                    False  \n",
      "5538                       False                    False  \n",
      "3264                       False                    False  \n",
      "399                        False                    False  \n",
      "2532                       False                    False  \n",
      "\n",
      "[5363 rows x 202 columns]\n",
      "       Age  Years of Experience  Gender_Male  Gender_Other  \\\n",
      "3506  32.0                  6.0        False         False   \n",
      "4776  34.0                  9.0         True         False   \n",
      "4539  27.0                  2.0        False         False   \n",
      "4262  44.0                 17.0         True         False   \n",
      "2884  30.0                  6.0        False         False   \n",
      "...    ...                  ...          ...           ...   \n",
      "2506  40.0                 16.0        False         False   \n",
      "2656  33.0                  8.0         True         False   \n",
      "952   42.0                 13.0        False         False   \n",
      "811   32.0                  8.0         True         False   \n",
      "657   30.0                  7.0        False         False   \n",
      "\n",
      "      Education Level_Bachelor's Degree  Education Level_High School  \\\n",
      "3506                              False                        False   \n",
      "4776                              False                        False   \n",
      "4539                               True                        False   \n",
      "4262                              False                        False   \n",
      "2884                              False                        False   \n",
      "...                                 ...                          ...   \n",
      "2506                              False                        False   \n",
      "2656                              False                        False   \n",
      "952                                True                        False   \n",
      "811                               False                        False   \n",
      "657                               False                        False   \n",
      "\n",
      "      Education Level_Master's  Education Level_Master's Degree  \\\n",
      "3506                     False                             True   \n",
      "4776                     False                             True   \n",
      "4539                     False                            False   \n",
      "4262                     False                            False   \n",
      "2884                     False                             True   \n",
      "...                        ...                              ...   \n",
      "2506                     False                             True   \n",
      "2656                     False                             True   \n",
      "952                      False                            False   \n",
      "811                      False                            False   \n",
      "657                      False                            False   \n",
      "\n",
      "      Education Level_PhD  Education Level_phD  ...  \\\n",
      "3506                False                False  ...   \n",
      "4776                False                False  ...   \n",
      "4539                False                False  ...   \n",
      "4262                 True                False  ...   \n",
      "2884                False                False  ...   \n",
      "...                   ...                  ...  ...   \n",
      "2506                False                False  ...   \n",
      "2656                False                False  ...   \n",
      "952                 False                False  ...   \n",
      "811                 False                False  ...   \n",
      "657                  True                False  ...   \n",
      "\n",
      "      Job Title_Supply Chain Manager  Job Title_Technical Recruiter  \\\n",
      "3506                           False                          False   \n",
      "4776                           False                          False   \n",
      "4539                           False                          False   \n",
      "4262                           False                          False   \n",
      "2884                           False                          False   \n",
      "...                              ...                            ...   \n",
      "2506                           False                          False   \n",
      "2656                           False                          False   \n",
      "952                            False                          False   \n",
      "811                            False                          False   \n",
      "657                            False                          False   \n",
      "\n",
      "      Job Title_Technical Support Specialist  Job Title_Technical Writer  \\\n",
      "3506                                   False                       False   \n",
      "4776                                   False                       False   \n",
      "4539                                   False                       False   \n",
      "4262                                   False                       False   \n",
      "2884                                   False                       False   \n",
      "...                                      ...                         ...   \n",
      "2506                                   False                       False   \n",
      "2656                                   False                       False   \n",
      "952                                    False                       False   \n",
      "811                                    False                       False   \n",
      "657                                    False                       False   \n",
      "\n",
      "      Job Title_Training Specialist  Job Title_UX Designer  \\\n",
      "3506                          False                  False   \n",
      "4776                          False                  False   \n",
      "4539                          False                  False   \n",
      "4262                          False                  False   \n",
      "2884                          False                  False   \n",
      "...                             ...                    ...   \n",
      "2506                          False                  False   \n",
      "2656                          False                  False   \n",
      "952                           False                  False   \n",
      "811                           False                  False   \n",
      "657                           False                  False   \n",
      "\n",
      "      Job Title_UX Researcher  Job Title_VP of Finance  \\\n",
      "3506                    False                    False   \n",
      "4776                    False                    False   \n",
      "4539                    False                    False   \n",
      "4262                    False                    False   \n",
      "2884                    False                    False   \n",
      "...                       ...                      ...   \n",
      "2506                    False                    False   \n",
      "2656                    False                    False   \n",
      "952                     False                    False   \n",
      "811                     False                    False   \n",
      "657                     False                    False   \n",
      "\n",
      "      Job Title_VP of Operations  Job Title_Web Developer  \n",
      "3506                       False                    False  \n",
      "4776                       False                    False  \n",
      "4539                       False                    False  \n",
      "4262                       False                    False  \n",
      "2884                       False                    False  \n",
      "...                          ...                      ...  \n",
      "2506                       False                    False  \n",
      "2656                       False                    False  \n",
      "952                        False                    False  \n",
      "811                        False                    False  \n",
      "657                        False                    False  \n",
      "\n",
      "[1341 rows x 202 columns]\n",
      "4770     31000.0\n",
      "3644     70000.0\n",
      "1900    185000.0\n",
      "4634     45000.0\n",
      "2971    178684.0\n",
      "          ...   \n",
      "1259    195000.0\n",
      "5538     25000.0\n",
      "3264     60000.0\n",
      "399     140000.0\n",
      "2532    134858.0\n",
      "Name: Salary, Length: 5363, dtype: float64\n",
      "3506     80000.0\n",
      "4776    125000.0\n",
      "4539     42000.0\n",
      "4262    168000.0\n",
      "2884    110707.0\n",
      "          ...   \n",
      "2506    138032.0\n",
      "2656    120000.0\n",
      "952     197000.0\n",
      "811     190000.0\n",
      "657     185000.0\n",
      "Name: Salary, Length: 1341, dtype: float64\n"
     ]
    }
   ],
   "source": [
    "print(X_train)\n",
    "print(X_test)\n",
    "print(y_train)\n",
    "print(y_test)"
   ]
  },
  {
   "attachments": {},
   "cell_type": "markdown",
   "metadata": {},
   "source": [
    "### Feature Scaling"
   ]
  },
  {
   "cell_type": "code",
   "execution_count": 26,
   "metadata": {},
   "outputs": [],
   "source": [
    "scaler = StandardScaler()\n",
    "columns_to_scale = [\"Age\", \"Years of Experience\"]\n",
    "X_train[columns_to_scale] = scaler.fit_transform(X_train[columns_to_scale])\n",
    "X_test[columns_to_scale] = scaler.transform(X_test[columns_to_scale])"
   ]
  },
  {
   "cell_type": "code",
   "execution_count": 27,
   "metadata": {},
   "outputs": [
    {
     "name": "stdout",
     "output_type": "stream",
     "text": [
      "           Age  Years of Experience  Gender_Male  Gender_Other  \\\n",
      "4770 -1.003026            -1.009453         True         False   \n",
      "3644 -0.608091            -0.512247        False         False   \n",
      "1900  1.761518             1.310843         True         False   \n",
      "4634 -0.871381            -1.175189        False         False   \n",
      "2971  2.024808             2.305256        False         False   \n",
      "...        ...                  ...          ...           ...   \n",
      "1259  2.683033             1.476579         True         False   \n",
      "5538 -1.266315            -1.340924        False         False   \n",
      "3264 -1.003026            -1.009453         True         False   \n",
      "399  -0.608091            -0.677982         True         False   \n",
      "2532  0.576714             0.813637        False         False   \n",
      "\n",
      "      Education Level_Bachelor's Degree  Education Level_High School  \\\n",
      "4770                              False                         True   \n",
      "3644                              False                        False   \n",
      "1900                              False                        False   \n",
      "4634                               True                        False   \n",
      "2971                              False                        False   \n",
      "...                                 ...                          ...   \n",
      "1259                              False                        False   \n",
      "5538                              False                         True   \n",
      "3264                               True                        False   \n",
      "399                               False                        False   \n",
      "2532                              False                        False   \n",
      "\n",
      "      Education Level_Master's  Education Level_Master's Degree  \\\n",
      "4770                     False                            False   \n",
      "3644                     False                             True   \n",
      "1900                     False                            False   \n",
      "4634                     False                            False   \n",
      "2971                     False                            False   \n",
      "...                        ...                              ...   \n",
      "1259                     False                            False   \n",
      "5538                     False                            False   \n",
      "3264                     False                            False   \n",
      "399                      False                            False   \n",
      "2532                     False                             True   \n",
      "\n",
      "      Education Level_PhD  Education Level_phD  ...  \\\n",
      "4770                False                False  ...   \n",
      "3644                False                False  ...   \n",
      "1900                 True                False  ...   \n",
      "4634                False                False  ...   \n",
      "2971                 True                False  ...   \n",
      "...                   ...                  ...  ...   \n",
      "1259                 True                False  ...   \n",
      "5538                False                False  ...   \n",
      "3264                False                False  ...   \n",
      "399                 False                False  ...   \n",
      "2532                False                False  ...   \n",
      "\n",
      "      Job Title_Supply Chain Manager  Job Title_Technical Recruiter  \\\n",
      "4770                           False                          False   \n",
      "3644                           False                          False   \n",
      "1900                           False                          False   \n",
      "4634                           False                          False   \n",
      "2971                           False                          False   \n",
      "...                              ...                            ...   \n",
      "1259                           False                          False   \n",
      "5538                           False                          False   \n",
      "3264                           False                          False   \n",
      "399                            False                          False   \n",
      "2532                           False                          False   \n",
      "\n",
      "      Job Title_Technical Support Specialist  Job Title_Technical Writer  \\\n",
      "4770                                   False                       False   \n",
      "3644                                   False                       False   \n",
      "1900                                   False                       False   \n",
      "4634                                   False                       False   \n",
      "2971                                   False                       False   \n",
      "...                                      ...                         ...   \n",
      "1259                                   False                       False   \n",
      "5538                                   False                       False   \n",
      "3264                                   False                       False   \n",
      "399                                    False                       False   \n",
      "2532                                   False                       False   \n",
      "\n",
      "      Job Title_Training Specialist  Job Title_UX Designer  \\\n",
      "4770                          False                  False   \n",
      "3644                          False                  False   \n",
      "1900                          False                  False   \n",
      "4634                          False                  False   \n",
      "2971                          False                  False   \n",
      "...                             ...                    ...   \n",
      "1259                          False                  False   \n",
      "5538                          False                  False   \n",
      "3264                          False                  False   \n",
      "399                           False                  False   \n",
      "2532                          False                  False   \n",
      "\n",
      "      Job Title_UX Researcher  Job Title_VP of Finance  \\\n",
      "4770                    False                    False   \n",
      "3644                    False                    False   \n",
      "1900                    False                    False   \n",
      "4634                    False                    False   \n",
      "2971                    False                    False   \n",
      "...                       ...                      ...   \n",
      "1259                    False                    False   \n",
      "5538                    False                    False   \n",
      "3264                    False                    False   \n",
      "399                     False                    False   \n",
      "2532                    False                    False   \n",
      "\n",
      "      Job Title_VP of Operations  Job Title_Web Developer  \n",
      "4770                       False                    False  \n",
      "3644                       False                    False  \n",
      "1900                       False                    False  \n",
      "4634                       False                    False  \n",
      "2971                       False                    False  \n",
      "...                          ...                      ...  \n",
      "1259                       False                    False  \n",
      "5538                       False                    False  \n",
      "3264                       False                    False  \n",
      "399                        False                    False  \n",
      "2532                       False                    False  \n",
      "\n",
      "[5363 rows x 202 columns]\n",
      "           Age  Years of Experience  Gender_Male  Gender_Other  \\\n",
      "3506 -0.213156            -0.346511        False         False   \n",
      "4776  0.050134             0.150695         True         False   \n",
      "4539 -0.871381            -1.009453        False         False   \n",
      "4262  1.366584             1.476579         True         False   \n",
      "2884 -0.476446            -0.346511        False         False   \n",
      "...        ...                  ...          ...           ...   \n",
      "2506  0.840004             1.310843        False         False   \n",
      "2656 -0.081511            -0.015040         True         False   \n",
      "952   1.103294             0.813637        False         False   \n",
      "811  -0.213156            -0.015040         True         False   \n",
      "657  -0.476446            -0.180776        False         False   \n",
      "\n",
      "      Education Level_Bachelor's Degree  Education Level_High School  \\\n",
      "3506                              False                        False   \n",
      "4776                              False                        False   \n",
      "4539                               True                        False   \n",
      "4262                              False                        False   \n",
      "2884                              False                        False   \n",
      "...                                 ...                          ...   \n",
      "2506                              False                        False   \n",
      "2656                              False                        False   \n",
      "952                                True                        False   \n",
      "811                               False                        False   \n",
      "657                               False                        False   \n",
      "\n",
      "      Education Level_Master's  Education Level_Master's Degree  \\\n",
      "3506                     False                             True   \n",
      "4776                     False                             True   \n",
      "4539                     False                            False   \n",
      "4262                     False                            False   \n",
      "2884                     False                             True   \n",
      "...                        ...                              ...   \n",
      "2506                     False                             True   \n",
      "2656                     False                             True   \n",
      "952                      False                            False   \n",
      "811                      False                            False   \n",
      "657                      False                            False   \n",
      "\n",
      "      Education Level_PhD  Education Level_phD  ...  \\\n",
      "3506                False                False  ...   \n",
      "4776                False                False  ...   \n",
      "4539                False                False  ...   \n",
      "4262                 True                False  ...   \n",
      "2884                False                False  ...   \n",
      "...                   ...                  ...  ...   \n",
      "2506                False                False  ...   \n",
      "2656                False                False  ...   \n",
      "952                 False                False  ...   \n",
      "811                 False                False  ...   \n",
      "657                  True                False  ...   \n",
      "\n",
      "      Job Title_Supply Chain Manager  Job Title_Technical Recruiter  \\\n",
      "3506                           False                          False   \n",
      "4776                           False                          False   \n",
      "4539                           False                          False   \n",
      "4262                           False                          False   \n",
      "2884                           False                          False   \n",
      "...                              ...                            ...   \n",
      "2506                           False                          False   \n",
      "2656                           False                          False   \n",
      "952                            False                          False   \n",
      "811                            False                          False   \n",
      "657                            False                          False   \n",
      "\n",
      "      Job Title_Technical Support Specialist  Job Title_Technical Writer  \\\n",
      "3506                                   False                       False   \n",
      "4776                                   False                       False   \n",
      "4539                                   False                       False   \n",
      "4262                                   False                       False   \n",
      "2884                                   False                       False   \n",
      "...                                      ...                         ...   \n",
      "2506                                   False                       False   \n",
      "2656                                   False                       False   \n",
      "952                                    False                       False   \n",
      "811                                    False                       False   \n",
      "657                                    False                       False   \n",
      "\n",
      "      Job Title_Training Specialist  Job Title_UX Designer  \\\n",
      "3506                          False                  False   \n",
      "4776                          False                  False   \n",
      "4539                          False                  False   \n",
      "4262                          False                  False   \n",
      "2884                          False                  False   \n",
      "...                             ...                    ...   \n",
      "2506                          False                  False   \n",
      "2656                          False                  False   \n",
      "952                           False                  False   \n",
      "811                           False                  False   \n",
      "657                           False                  False   \n",
      "\n",
      "      Job Title_UX Researcher  Job Title_VP of Finance  \\\n",
      "3506                    False                    False   \n",
      "4776                    False                    False   \n",
      "4539                    False                    False   \n",
      "4262                    False                    False   \n",
      "2884                    False                    False   \n",
      "...                       ...                      ...   \n",
      "2506                    False                    False   \n",
      "2656                    False                    False   \n",
      "952                     False                    False   \n",
      "811                     False                    False   \n",
      "657                     False                    False   \n",
      "\n",
      "      Job Title_VP of Operations  Job Title_Web Developer  \n",
      "3506                       False                    False  \n",
      "4776                       False                    False  \n",
      "4539                       False                    False  \n",
      "4262                       False                    False  \n",
      "2884                       False                    False  \n",
      "...                          ...                      ...  \n",
      "2506                       False                    False  \n",
      "2656                       False                    False  \n",
      "952                        False                    False  \n",
      "811                        False                    False  \n",
      "657                        False                    False  \n",
      "\n",
      "[1341 rows x 202 columns]\n"
     ]
    }
   ],
   "source": [
    "print(X_train)\n",
    "print(X_test)"
   ]
  },
  {
   "attachments": {},
   "cell_type": "markdown",
   "metadata": {},
   "source": [
    "### Create the Model and Fit to Training Data"
   ]
  },
  {
   "cell_type": "code",
   "execution_count": 28,
   "metadata": {},
   "outputs": [
    {
     "data": {
      "text/html": [
       "<style>#sk-container-id-1 {color: black;}#sk-container-id-1 pre{padding: 0;}#sk-container-id-1 div.sk-toggleable {background-color: white;}#sk-container-id-1 label.sk-toggleable__label {cursor: pointer;display: block;width: 100%;margin-bottom: 0;padding: 0.3em;box-sizing: border-box;text-align: center;}#sk-container-id-1 label.sk-toggleable__label-arrow:before {content: \"▸\";float: left;margin-right: 0.25em;color: #696969;}#sk-container-id-1 label.sk-toggleable__label-arrow:hover:before {color: black;}#sk-container-id-1 div.sk-estimator:hover label.sk-toggleable__label-arrow:before {color: black;}#sk-container-id-1 div.sk-toggleable__content {max-height: 0;max-width: 0;overflow: hidden;text-align: left;background-color: #f0f8ff;}#sk-container-id-1 div.sk-toggleable__content pre {margin: 0.2em;color: black;border-radius: 0.25em;background-color: #f0f8ff;}#sk-container-id-1 input.sk-toggleable__control:checked~div.sk-toggleable__content {max-height: 200px;max-width: 100%;overflow: auto;}#sk-container-id-1 input.sk-toggleable__control:checked~label.sk-toggleable__label-arrow:before {content: \"▾\";}#sk-container-id-1 div.sk-estimator input.sk-toggleable__control:checked~label.sk-toggleable__label {background-color: #d4ebff;}#sk-container-id-1 div.sk-label input.sk-toggleable__control:checked~label.sk-toggleable__label {background-color: #d4ebff;}#sk-container-id-1 input.sk-hidden--visually {border: 0;clip: rect(1px 1px 1px 1px);clip: rect(1px, 1px, 1px, 1px);height: 1px;margin: -1px;overflow: hidden;padding: 0;position: absolute;width: 1px;}#sk-container-id-1 div.sk-estimator {font-family: monospace;background-color: #f0f8ff;border: 1px dotted black;border-radius: 0.25em;box-sizing: border-box;margin-bottom: 0.5em;}#sk-container-id-1 div.sk-estimator:hover {background-color: #d4ebff;}#sk-container-id-1 div.sk-parallel-item::after {content: \"\";width: 100%;border-bottom: 1px solid gray;flex-grow: 1;}#sk-container-id-1 div.sk-label:hover label.sk-toggleable__label {background-color: #d4ebff;}#sk-container-id-1 div.sk-serial::before {content: \"\";position: absolute;border-left: 1px solid gray;box-sizing: border-box;top: 0;bottom: 0;left: 50%;z-index: 0;}#sk-container-id-1 div.sk-serial {display: flex;flex-direction: column;align-items: center;background-color: white;padding-right: 0.2em;padding-left: 0.2em;position: relative;}#sk-container-id-1 div.sk-item {position: relative;z-index: 1;}#sk-container-id-1 div.sk-parallel {display: flex;align-items: stretch;justify-content: center;background-color: white;position: relative;}#sk-container-id-1 div.sk-item::before, #sk-container-id-1 div.sk-parallel-item::before {content: \"\";position: absolute;border-left: 1px solid gray;box-sizing: border-box;top: 0;bottom: 0;left: 50%;z-index: -1;}#sk-container-id-1 div.sk-parallel-item {display: flex;flex-direction: column;z-index: 1;position: relative;background-color: white;}#sk-container-id-1 div.sk-parallel-item:first-child::after {align-self: flex-end;width: 50%;}#sk-container-id-1 div.sk-parallel-item:last-child::after {align-self: flex-start;width: 50%;}#sk-container-id-1 div.sk-parallel-item:only-child::after {width: 0;}#sk-container-id-1 div.sk-dashed-wrapped {border: 1px dashed gray;margin: 0 0.4em 0.5em 0.4em;box-sizing: border-box;padding-bottom: 0.4em;background-color: white;}#sk-container-id-1 div.sk-label label {font-family: monospace;font-weight: bold;display: inline-block;line-height: 1.2em;}#sk-container-id-1 div.sk-label-container {text-align: center;}#sk-container-id-1 div.sk-container {/* jupyter's `normalize.less` sets `[hidden] { display: none; }` but bootstrap.min.css set `[hidden] { display: none !important; }` so we also need the `!important` here to be able to override the default hidden behavior on the sphinx rendered scikit-learn.org. See: https://github.com/scikit-learn/scikit-learn/issues/21755 */display: inline-block !important;position: relative;}#sk-container-id-1 div.sk-text-repr-fallback {display: none;}</style><div id=\"sk-container-id-1\" class=\"sk-top-container\"><div class=\"sk-text-repr-fallback\"><pre>LinearRegression()</pre><b>In a Jupyter environment, please rerun this cell to show the HTML representation or trust the notebook. <br />On GitHub, the HTML representation is unable to render, please try loading this page with nbviewer.org.</b></div><div class=\"sk-container\" hidden><div class=\"sk-item\"><div class=\"sk-estimator sk-toggleable\"><input class=\"sk-toggleable__control sk-hidden--visually\" id=\"sk-estimator-id-1\" type=\"checkbox\" checked><label for=\"sk-estimator-id-1\" class=\"sk-toggleable__label sk-toggleable__label-arrow\">LinearRegression</label><div class=\"sk-toggleable__content\"><pre>LinearRegression()</pre></div></div></div></div></div>"
      ],
      "text/plain": [
       "LinearRegression()"
      ]
     },
     "execution_count": 28,
     "metadata": {},
     "output_type": "execute_result"
    }
   ],
   "source": [
    "regressor = LinearRegression()\n",
    "regressor.fit(X_train,y_train)"
   ]
  },
  {
   "attachments": {},
   "cell_type": "markdown",
   "metadata": {},
   "source": [
    "### Predict on the Test Data"
   ]
  },
  {
   "cell_type": "code",
   "execution_count": 29,
   "metadata": {},
   "outputs": [],
   "source": [
    "y_pred = regressor.predict(X_test)"
   ]
  },
  {
   "cell_type": "code",
   "execution_count": 30,
   "metadata": {},
   "outputs": [
    {
     "name": "stdout",
     "output_type": "stream",
     "text": [
      "[ 82480.25 134599.    37842.   ... 137007.   160882.5  138107.75]\n"
     ]
    }
   ],
   "source": [
    "print(y_pred)"
   ]
  },
  {
   "cell_type": "code",
   "execution_count": 31,
   "metadata": {},
   "outputs": [
    {
     "name": "stdout",
     "output_type": "stream",
     "text": [
      "3506     80000.0\n",
      "4776    125000.0\n",
      "4539     42000.0\n",
      "4262    168000.0\n",
      "2884    110707.0\n",
      "          ...   \n",
      "2506    138032.0\n",
      "2656    120000.0\n",
      "952     197000.0\n",
      "811     190000.0\n",
      "657     185000.0\n",
      "Name: Salary, Length: 1341, dtype: float64\n"
     ]
    }
   ],
   "source": [
    "print(y_test)"
   ]
  },
  {
   "attachments": {},
   "cell_type": "markdown",
   "metadata": {},
   "source": [
    "### Change this to a better format"
   ]
  },
  {
   "cell_type": "code",
   "execution_count": 32,
   "metadata": {},
   "outputs": [],
   "source": [
    "y_test_series = pd.Series(y_test)\n",
    "y_pred_series = pd.Series(y_pred)"
   ]
  },
  {
   "cell_type": "code",
   "execution_count": 33,
   "metadata": {},
   "outputs": [
    {
     "name": "stdout",
     "output_type": "stream",
     "text": [
      "3506     80000.0\n",
      "4776    125000.0\n",
      "4539     42000.0\n",
      "4262    168000.0\n",
      "2884    110707.0\n",
      "          ...   \n",
      "2506    138032.0\n",
      "2656    120000.0\n",
      "952     197000.0\n",
      "811     190000.0\n",
      "657     185000.0\n",
      "Name: Salary, Length: 1341, dtype: float64\n",
      "0        82480.25\n",
      "1       134599.00\n",
      "2        37842.00\n",
      "3       194862.00\n",
      "4       113250.50\n",
      "          ...    \n",
      "1336    158779.00\n",
      "1337    109896.25\n",
      "1338    137007.00\n",
      "1339    160882.50\n",
      "1340    138107.75\n",
      "Length: 1341, dtype: float64\n"
     ]
    }
   ],
   "source": [
    "print(y_test_series)\n",
    "print(y_pred_series)"
   ]
  },
  {
   "attachments": {},
   "cell_type": "markdown",
   "metadata": {},
   "source": [
    "### Create a DataFrame for Comparison"
   ]
  },
  {
   "cell_type": "code",
   "execution_count": 34,
   "metadata": {},
   "outputs": [
    {
     "name": "stdout",
     "output_type": "stream",
     "text": [
      "        Actual  Predicted\n",
      "0      80000.0   82480.25\n",
      "1     125000.0  134599.00\n",
      "2      42000.0   37842.00\n",
      "3     168000.0  194862.00\n",
      "4     110707.0  113250.50\n",
      "...        ...        ...\n",
      "1336  138032.0  158779.00\n",
      "1337  120000.0  109896.25\n",
      "1338  197000.0  137007.00\n",
      "1339  190000.0  160882.50\n",
      "1340  185000.0  138107.75\n",
      "\n",
      "[1341 rows x 2 columns]\n"
     ]
    }
   ],
   "source": [
    "comparison_df = pd.concat([y_test_series.reset_index(drop=True), y_pred_series], axis=1)\n",
    "comparison_df.columns = [\"Actual\", \"Predicted\"]\n",
    "\n",
    "print(comparison_df)"
   ]
  },
  {
   "attachments": {},
   "cell_type": "markdown",
   "metadata": {},
   "source": [
    "### Evaluate the Model"
   ]
  },
  {
   "cell_type": "code",
   "execution_count": 35,
   "metadata": {},
   "outputs": [],
   "source": [
    "from sklearn.metrics import mean_squared_error, mean_absolute_error, r2_score\n",
    "\n",
    "mse = mean_squared_error(y_test_series.values, y_pred_series.values)\n",
    "rmse = np.sqrt(mean_squared_error(y_test_series.values, y_pred_series.values))\n",
    "mae = mean_absolute_error(y_test_series.values, y_pred_series.values)\n",
    "r2 = r2_score(y_test_series.values, y_pred_series.values)\n"
   ]
  },
  {
   "cell_type": "code",
   "execution_count": 36,
   "metadata": {},
   "outputs": [
    {
     "name": "stdout",
     "output_type": "stream",
     "text": [
      "Mean Squared Error:  8.232797599870436e+29\n",
      "Root Mean Squared Error:  907347651116728.0\n",
      "Mean Absolute Error:  69699095379249.42\n",
      "R-Squared Score:  -2.977461888891339e+20\n"
     ]
    }
   ],
   "source": [
    "print(\"Mean Squared Error: \", mse)\n",
    "print(\"Root Mean Squared Error: \", rmse)\n",
    "print(\"Mean Absolute Error: \", mae)\n",
    "print(\"R-Squared Score: \", r2)"
   ]
  },
  {
   "attachments": {},
   "cell_type": "markdown",
   "metadata": {},
   "source": [
    "### Visualize Actual vs. Predicted"
   ]
  },
  {
   "cell_type": "code",
   "execution_count": 37,
   "metadata": {},
   "outputs": [
    {
     "data": {
      "text/plain": [
       "Text(0.5, 1.0, 'Actual vs. Predicted Values')"
      ]
     },
     "execution_count": 37,
     "metadata": {},
     "output_type": "execute_result"
    },
    {
     "data": {
      "image/png": "[encoded data removed]",
      "text/plain": [
       "<Figure size 640x480 with 1 Axes>"
      ]
     },
     "metadata": {},
     "output_type": "display_data"
    }
   ],
   "source": [
    "plt.scatter(y_test_series.values, y_pred_series.values)\n",
    "plt.xlabel(\"Actual Values\")\n",
    "plt.ylabel(\"Predicted Values\")\n",
    "plt.title(\"Actual vs. Predicted Values\")"
   ]
  },
  {
   "cell_type": "code",
   "execution_count": 38,
   "metadata": {},
   "outputs": [
    {
     "data": {
      "image/png": "[encoded data removed]",
      "text/plain": [
       "<Figure size 640x480 with 1 Axes>"
      ]
     },
     "metadata": {},
     "output_type": "display_data"
    }
   ],
   "source": [
    "\n",
    "residuals = y_test_series.values - y_pred_series.values\n",
    "plt.scatter(y_pred_series.values, residuals)\n",
    "plt.axhline(y=0, color='r', linestyle='--')\n",
    "plt.xlabel('Predicted Values')\n",
    "plt.ylabel('Residuals')\n",
    "plt.title('Residual Plot')\n",
    "plt.show()"
   ]
  }
 ],
 "metadata": {
  "kernelspec": {
   "display_name": ".venv",
   "language": "python",
   "name": "python3"
  },
  "language_info": {
   "codemirror_mode": {
    "name": "ipython",
    "version": 3
   },
   "file_extension": ".py",
   "mimetype": "text/x-python",
   "name": "python",
   "nbconvert_exporter": "python",
   "pygments_lexer": "ipython3",
   "version": "3.10.6"
  },
  "orig_nbformat": 4
 },
 "nbformat": 4,
 "nbformat_minor": 2
}
